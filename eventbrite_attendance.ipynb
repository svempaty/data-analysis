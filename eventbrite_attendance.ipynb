{
 "cells": [
  {
   "cell_type": "code",
   "execution_count": 1,
   "id": "a39a601d-53f6-4f02-b916-8a21b0701414",
   "metadata": {},
   "outputs": [],
   "source": [
    "# This notebook is to analyze attendees of events.\n",
    "# Input: Attendee summary report, as CSV, from eventbrite. Choose all events that need to be analyzed.\n",
    "# Output: CSV file of attendee names, their email ids, and the number of events they've attended, \n",
    "# ordered by DESC order of number of events."
   ]
  },
  {
   "cell_type": "code",
   "execution_count": 2,
   "id": "ef0bcede-09c0-4774-8bef-0dc940d2c25a",
   "metadata": {},
   "outputs": [],
   "source": [
    "import pandas as pd"
   ]
  },
  {
   "cell_type": "code",
   "execution_count": 3,
   "id": "635248f7-a8da-4a14-a162-6f541d196e7c",
   "metadata": {},
   "outputs": [],
   "source": [
    "csv_file = 'eventbrite_nov_2023_apr_2024.csv'\n",
    "df = pd.read_csv(csv_file)"
   ]
  },
  {
   "cell_type": "code",
   "execution_count": 4,
   "id": "f9e7c1c9-7c61-4724-b257-a24f8e0ef2aa",
   "metadata": {},
   "outputs": [
    {
     "data": {
      "text/html": [
       "<div>\n",
       "<style scoped>\n",
       "    .dataframe tbody tr th:only-of-type {\n",
       "        vertical-align: middle;\n",
       "    }\n",
       "\n",
       "    .dataframe tbody tr th {\n",
       "        vertical-align: top;\n",
       "    }\n",
       "\n",
       "    .dataframe thead th {\n",
       "        text-align: right;\n",
       "    }\n",
       "</style>\n",
       "<table border=\"1\" class=\"dataframe\">\n",
       "  <thead>\n",
       "    <tr style=\"text-align: right;\">\n",
       "      <th></th>\n",
       "      <th>Order ID</th>\n",
       "      <th>Order Date</th>\n",
       "      <th>Attendee Status</th>\n",
       "      <th>First Name</th>\n",
       "      <th>Last Name</th>\n",
       "      <th>Email</th>\n",
       "      <th>Event Name</th>\n",
       "      <th>Ticket Quantity</th>\n",
       "      <th>Ticket Type</th>\n",
       "      <th>Ticket Price</th>\n",
       "      <th>Buyer First Name</th>\n",
       "      <th>Buyer Last Name</th>\n",
       "      <th>Buyer Email</th>\n",
       "    </tr>\n",
       "  </thead>\n",
       "  <tbody>\n",
       "    <tr>\n",
       "      <th>0</th>\n",
       "      <td>8220475359</td>\n",
       "      <td>11/2/23 8:00 PM</td>\n",
       "      <td>Attending</td>\n",
       "      <td>Nicholas</td>\n",
       "      <td>Torelli</td>\n",
       "      <td>nicotarg123@gmail.com</td>\n",
       "      <td>Vedanta Society of New York - Sunday Service: ...</td>\n",
       "      <td>1</td>\n",
       "      <td>Attend in person</td>\n",
       "      <td>$0.00</td>\n",
       "      <td>Nicholas</td>\n",
       "      <td>Torelli</td>\n",
       "      <td>nicotarg123@gmail.com</td>\n",
       "    </tr>\n",
       "    <tr>\n",
       "      <th>1</th>\n",
       "      <td>8220475829</td>\n",
       "      <td>11/2/23 8:00 PM</td>\n",
       "      <td>Attending</td>\n",
       "      <td>Perry</td>\n",
       "      <td>Fox</td>\n",
       "      <td>pyrus277@gmail.com</td>\n",
       "      <td>Vedanta Society of New York - Sunday Service: ...</td>\n",
       "      <td>1</td>\n",
       "      <td>Attend in person</td>\n",
       "      <td>$0.00</td>\n",
       "      <td>Perry</td>\n",
       "      <td>Fox</td>\n",
       "      <td>pyrus277@gmail.com</td>\n",
       "    </tr>\n",
       "    <tr>\n",
       "      <th>2</th>\n",
       "      <td>8220475919</td>\n",
       "      <td>11/2/23 8:00 PM</td>\n",
       "      <td>Attending</td>\n",
       "      <td>Jane</td>\n",
       "      <td>Lam</td>\n",
       "      <td>puffymilk@gmail.com</td>\n",
       "      <td>Vedanta Society of New York - Sunday Service: ...</td>\n",
       "      <td>1</td>\n",
       "      <td>Attend in person</td>\n",
       "      <td>$0.00</td>\n",
       "      <td>Jane</td>\n",
       "      <td>Lam</td>\n",
       "      <td>puffymilk@gmail.com</td>\n",
       "    </tr>\n",
       "    <tr>\n",
       "      <th>3</th>\n",
       "      <td>8220475919</td>\n",
       "      <td>11/2/23 8:00 PM</td>\n",
       "      <td>Attending</td>\n",
       "      <td>Jane</td>\n",
       "      <td>Lam</td>\n",
       "      <td>puffymilk@gmail.com</td>\n",
       "      <td>Vedanta Society of New York - Sunday Service: ...</td>\n",
       "      <td>1</td>\n",
       "      <td>Attend in person</td>\n",
       "      <td>$0.00</td>\n",
       "      <td>Jane</td>\n",
       "      <td>Lam</td>\n",
       "      <td>puffymilk@gmail.com</td>\n",
       "    </tr>\n",
       "    <tr>\n",
       "      <th>4</th>\n",
       "      <td>8220476029</td>\n",
       "      <td>11/2/23 8:00 PM</td>\n",
       "      <td>Attending</td>\n",
       "      <td>Manisha</td>\n",
       "      <td>Paliwal</td>\n",
       "      <td>manisha1.paliwal@gmail.com</td>\n",
       "      <td>Vedanta Society of New York - Sunday Service: ...</td>\n",
       "      <td>1</td>\n",
       "      <td>Attend in person</td>\n",
       "      <td>$0.00</td>\n",
       "      <td>Manisha</td>\n",
       "      <td>Paliwal</td>\n",
       "      <td>manisha1.paliwal@gmail.com</td>\n",
       "    </tr>\n",
       "  </tbody>\n",
       "</table>\n",
       "</div>"
      ],
      "text/plain": [
       "     Order ID       Order Date Attendee Status First Name Last Name  \\\n",
       "0  8220475359  11/2/23 8:00 PM       Attending   Nicholas   Torelli   \n",
       "1  8220475829  11/2/23 8:00 PM       Attending      Perry       Fox   \n",
       "2  8220475919  11/2/23 8:00 PM       Attending       Jane       Lam   \n",
       "3  8220475919  11/2/23 8:00 PM       Attending       Jane       Lam   \n",
       "4  8220476029  11/2/23 8:00 PM       Attending    Manisha   Paliwal   \n",
       "\n",
       "                        Email  \\\n",
       "0       nicotarg123@gmail.com   \n",
       "1          pyrus277@gmail.com   \n",
       "2         puffymilk@gmail.com   \n",
       "3         puffymilk@gmail.com   \n",
       "4  manisha1.paliwal@gmail.com   \n",
       "\n",
       "                                          Event Name  Ticket Quantity  \\\n",
       "0  Vedanta Society of New York - Sunday Service: ...                1   \n",
       "1  Vedanta Society of New York - Sunday Service: ...                1   \n",
       "2  Vedanta Society of New York - Sunday Service: ...                1   \n",
       "3  Vedanta Society of New York - Sunday Service: ...                1   \n",
       "4  Vedanta Society of New York - Sunday Service: ...                1   \n",
       "\n",
       "        Ticket Type Ticket Price Buyer First Name Buyer Last Name  \\\n",
       "0  Attend in person        $0.00         Nicholas         Torelli   \n",
       "1  Attend in person        $0.00            Perry             Fox   \n",
       "2  Attend in person        $0.00             Jane             Lam   \n",
       "3  Attend in person        $0.00             Jane             Lam   \n",
       "4  Attend in person        $0.00          Manisha         Paliwal   \n",
       "\n",
       "                  Buyer Email  \n",
       "0       nicotarg123@gmail.com  \n",
       "1          pyrus277@gmail.com  \n",
       "2         puffymilk@gmail.com  \n",
       "3         puffymilk@gmail.com  \n",
       "4  manisha1.paliwal@gmail.com  "
      ]
     },
     "execution_count": 4,
     "metadata": {},
     "output_type": "execute_result"
    }
   ],
   "source": [
    "df.head()"
   ]
  },
  {
   "cell_type": "code",
   "execution_count": 5,
   "id": "71a09401-942c-4ddd-b5a9-ed104f063ed5",
   "metadata": {},
   "outputs": [],
   "source": [
    "# Required columns: order date, attendee first and last name, attendee email, order id, buyer email\n",
    "required_cols = {\n",
    "    'Event Name': 'event',\n",
    "    'First Name': 'first_name',\n",
    "    'Last Name': 'last_name',\n",
    "    'Email': 'email'\n",
    "}\n",
    "df = df[required_cols.keys()]\n",
    "df = df.rename(columns=required_cols, errors='raise')"
   ]
  },
  {
   "cell_type": "code",
   "execution_count": 6,
   "id": "fe13c059-7877-4acd-8c77-590ff2184caa",
   "metadata": {},
   "outputs": [],
   "source": [
    "# Keep only the day and date part of the event name column\n",
    "df['event'] = df['event'].apply(lambda x: x.split('-')[1].strip())"
   ]
  },
  {
   "cell_type": "code",
   "execution_count": 7,
   "id": "1614fc6c-029f-4283-b1cd-541ca2c2d208",
   "metadata": {},
   "outputs": [
    {
     "data": {
      "text/html": [
       "<div>\n",
       "<style scoped>\n",
       "    .dataframe tbody tr th:only-of-type {\n",
       "        vertical-align: middle;\n",
       "    }\n",
       "\n",
       "    .dataframe tbody tr th {\n",
       "        vertical-align: top;\n",
       "    }\n",
       "\n",
       "    .dataframe thead th {\n",
       "        text-align: right;\n",
       "    }\n",
       "</style>\n",
       "<table border=\"1\" class=\"dataframe\">\n",
       "  <thead>\n",
       "    <tr style=\"text-align: right;\">\n",
       "      <th></th>\n",
       "      <th>event</th>\n",
       "      <th>first_name</th>\n",
       "      <th>last_name</th>\n",
       "      <th>email</th>\n",
       "    </tr>\n",
       "  </thead>\n",
       "  <tbody>\n",
       "    <tr>\n",
       "      <th>0</th>\n",
       "      <td>Sunday Service: Nov 5, 2023</td>\n",
       "      <td>Nicholas</td>\n",
       "      <td>Torelli</td>\n",
       "      <td>nicotarg123@gmail.com</td>\n",
       "    </tr>\n",
       "    <tr>\n",
       "      <th>1</th>\n",
       "      <td>Sunday Service: Nov 5, 2023</td>\n",
       "      <td>Perry</td>\n",
       "      <td>Fox</td>\n",
       "      <td>pyrus277@gmail.com</td>\n",
       "    </tr>\n",
       "    <tr>\n",
       "      <th>2</th>\n",
       "      <td>Sunday Service: Nov 5, 2023</td>\n",
       "      <td>Jane</td>\n",
       "      <td>Lam</td>\n",
       "      <td>puffymilk@gmail.com</td>\n",
       "    </tr>\n",
       "    <tr>\n",
       "      <th>3</th>\n",
       "      <td>Sunday Service: Nov 5, 2023</td>\n",
       "      <td>Jane</td>\n",
       "      <td>Lam</td>\n",
       "      <td>puffymilk@gmail.com</td>\n",
       "    </tr>\n",
       "    <tr>\n",
       "      <th>4</th>\n",
       "      <td>Sunday Service: Nov 5, 2023</td>\n",
       "      <td>Manisha</td>\n",
       "      <td>Paliwal</td>\n",
       "      <td>manisha1.paliwal@gmail.com</td>\n",
       "    </tr>\n",
       "  </tbody>\n",
       "</table>\n",
       "</div>"
      ],
      "text/plain": [
       "                         event first_name last_name  \\\n",
       "0  Sunday Service: Nov 5, 2023   Nicholas   Torelli   \n",
       "1  Sunday Service: Nov 5, 2023      Perry       Fox   \n",
       "2  Sunday Service: Nov 5, 2023       Jane       Lam   \n",
       "3  Sunday Service: Nov 5, 2023       Jane       Lam   \n",
       "4  Sunday Service: Nov 5, 2023    Manisha   Paliwal   \n",
       "\n",
       "                        email  \n",
       "0       nicotarg123@gmail.com  \n",
       "1          pyrus277@gmail.com  \n",
       "2         puffymilk@gmail.com  \n",
       "3         puffymilk@gmail.com  \n",
       "4  manisha1.paliwal@gmail.com  "
      ]
     },
     "execution_count": 7,
     "metadata": {},
     "output_type": "execute_result"
    }
   ],
   "source": [
    "df.head()"
   ]
  },
  {
   "cell_type": "code",
   "execution_count": 8,
   "id": "7370893a-5c0b-49fe-85f0-eb0178efe076",
   "metadata": {},
   "outputs": [
    {
     "data": {
      "text/plain": [
       "1731"
      ]
     },
     "execution_count": 8,
     "metadata": {},
     "output_type": "execute_result"
    }
   ],
   "source": [
    "df.shape[0]"
   ]
  },
  {
   "cell_type": "code",
   "execution_count": 9,
   "id": "63360a5a-4f74-4724-a41f-fad2952958b3",
   "metadata": {},
   "outputs": [],
   "source": [
    "# If an attendee name appears more than once for the same date, drop the duplicate.\n",
    "# This would happen if the attendee buying the ticket uses the same name for everyone in their group.\n",
    "df = df.drop_duplicates(subset=['event', 'first_name', 'last_name', 'email'], ignore_index=True)"
   ]
  },
  {
   "cell_type": "code",
   "execution_count": 10,
   "id": "972c65f1-3445-4f13-a950-e7c80e7b4342",
   "metadata": {},
   "outputs": [
    {
     "data": {
      "text/plain": [
       "1649"
      ]
     },
     "execution_count": 10,
     "metadata": {},
     "output_type": "execute_result"
    }
   ],
   "source": [
    "df.shape[0]"
   ]
  },
  {
   "cell_type": "code",
   "execution_count": 11,
   "id": "308a72da-f316-4884-8cae-37a4516f6339",
   "metadata": {},
   "outputs": [
    {
     "data": {
      "text/html": [
       "<div>\n",
       "<style scoped>\n",
       "    .dataframe tbody tr th:only-of-type {\n",
       "        vertical-align: middle;\n",
       "    }\n",
       "\n",
       "    .dataframe tbody tr th {\n",
       "        vertical-align: top;\n",
       "    }\n",
       "\n",
       "    .dataframe thead th {\n",
       "        text-align: right;\n",
       "    }\n",
       "</style>\n",
       "<table border=\"1\" class=\"dataframe\">\n",
       "  <thead>\n",
       "    <tr style=\"text-align: right;\">\n",
       "      <th></th>\n",
       "      <th>event</th>\n",
       "      <th>first_name</th>\n",
       "      <th>last_name</th>\n",
       "      <th>email</th>\n",
       "    </tr>\n",
       "  </thead>\n",
       "  <tbody>\n",
       "    <tr>\n",
       "      <th>0</th>\n",
       "      <td>Sunday Service: Nov 5, 2023</td>\n",
       "      <td>Nicholas</td>\n",
       "      <td>Torelli</td>\n",
       "      <td>nicotarg123@gmail.com</td>\n",
       "    </tr>\n",
       "    <tr>\n",
       "      <th>1</th>\n",
       "      <td>Sunday Service: Nov 5, 2023</td>\n",
       "      <td>Perry</td>\n",
       "      <td>Fox</td>\n",
       "      <td>pyrus277@gmail.com</td>\n",
       "    </tr>\n",
       "    <tr>\n",
       "      <th>2</th>\n",
       "      <td>Sunday Service: Nov 5, 2023</td>\n",
       "      <td>Jane</td>\n",
       "      <td>Lam</td>\n",
       "      <td>puffymilk@gmail.com</td>\n",
       "    </tr>\n",
       "    <tr>\n",
       "      <th>3</th>\n",
       "      <td>Sunday Service: Nov 5, 2023</td>\n",
       "      <td>Manisha</td>\n",
       "      <td>Paliwal</td>\n",
       "      <td>manisha1.paliwal@gmail.com</td>\n",
       "    </tr>\n",
       "    <tr>\n",
       "      <th>4</th>\n",
       "      <td>Sunday Service: Nov 5, 2023</td>\n",
       "      <td>Connor</td>\n",
       "      <td>Williams</td>\n",
       "      <td>cw3549@utsnyc.edu</td>\n",
       "    </tr>\n",
       "  </tbody>\n",
       "</table>\n",
       "</div>"
      ],
      "text/plain": [
       "                         event first_name last_name  \\\n",
       "0  Sunday Service: Nov 5, 2023   Nicholas   Torelli   \n",
       "1  Sunday Service: Nov 5, 2023      Perry       Fox   \n",
       "2  Sunday Service: Nov 5, 2023       Jane       Lam   \n",
       "3  Sunday Service: Nov 5, 2023    Manisha   Paliwal   \n",
       "4  Sunday Service: Nov 5, 2023     Connor  Williams   \n",
       "\n",
       "                        email  \n",
       "0       nicotarg123@gmail.com  \n",
       "1          pyrus277@gmail.com  \n",
       "2         puffymilk@gmail.com  \n",
       "3  manisha1.paliwal@gmail.com  \n",
       "4           cw3549@utsnyc.edu  "
      ]
     },
     "execution_count": 11,
     "metadata": {},
     "output_type": "execute_result"
    }
   ],
   "source": [
    "df.head()"
   ]
  },
  {
   "cell_type": "code",
   "execution_count": 12,
   "id": "4a9bbd53-87a8-448d-b9ed-dd5efef79252",
   "metadata": {},
   "outputs": [],
   "source": [
    "# We want to know how many classes each person attended. \n",
    "# So, group by name and add a count column\n",
    "df_grouped = df.groupby(['first_name', 'last_name', 'email']).size().reset_index(name='count')"
   ]
  },
  {
   "cell_type": "code",
   "execution_count": 13,
   "id": "86d61f12-9110-4ad1-92e0-685d12edaba7",
   "metadata": {},
   "outputs": [],
   "source": [
    "# Sort by max attendance\n",
    "df_grouped = df_grouped.sort_values(by='count', ascending=False)"
   ]
  },
  {
   "cell_type": "code",
   "execution_count": 14,
   "id": "ad23c1cc-3751-406c-bab9-7194064da750",
   "metadata": {},
   "outputs": [
    {
     "data": {
      "text/html": [
       "<div>\n",
       "<style scoped>\n",
       "    .dataframe tbody tr th:only-of-type {\n",
       "        vertical-align: middle;\n",
       "    }\n",
       "\n",
       "    .dataframe tbody tr th {\n",
       "        vertical-align: top;\n",
       "    }\n",
       "\n",
       "    .dataframe thead th {\n",
       "        text-align: right;\n",
       "    }\n",
       "</style>\n",
       "<table border=\"1\" class=\"dataframe\">\n",
       "  <thead>\n",
       "    <tr style=\"text-align: right;\">\n",
       "      <th></th>\n",
       "      <th>first_name</th>\n",
       "      <th>last_name</th>\n",
       "      <th>email</th>\n",
       "      <th>count</th>\n",
       "    </tr>\n",
       "  </thead>\n",
       "  <tbody>\n",
       "    <tr>\n",
       "      <th>131</th>\n",
       "      <td>Basabi</td>\n",
       "      <td>Basu</td>\n",
       "      <td>basus06@gmail.com</td>\n",
       "      <td>19</td>\n",
       "    </tr>\n",
       "    <tr>\n",
       "      <th>293</th>\n",
       "      <td>Janhavi</td>\n",
       "      <td>Phansalkar</td>\n",
       "      <td>janhaviphansalkar@gmail.com</td>\n",
       "      <td>19</td>\n",
       "    </tr>\n",
       "    <tr>\n",
       "      <th>762</th>\n",
       "      <td>Sonali</td>\n",
       "      <td>Basu</td>\n",
       "      <td>basus06@gmail.com</td>\n",
       "      <td>19</td>\n",
       "    </tr>\n",
       "    <tr>\n",
       "      <th>416</th>\n",
       "      <td>Manisha</td>\n",
       "      <td>Paliwal</td>\n",
       "      <td>manisha1.paliwal@gmail.com</td>\n",
       "      <td>16</td>\n",
       "    </tr>\n",
       "    <tr>\n",
       "      <th>822</th>\n",
       "      <td>Tanuka</td>\n",
       "      <td>Ghoshal</td>\n",
       "      <td>tanuka.ghoshal@gmail.com</td>\n",
       "      <td>15</td>\n",
       "    </tr>\n",
       "  </tbody>\n",
       "</table>\n",
       "</div>"
      ],
      "text/plain": [
       "    first_name   last_name                        email  count\n",
       "131     Basabi        Basu            basus06@gmail.com     19\n",
       "293    Janhavi  Phansalkar  janhaviphansalkar@gmail.com     19\n",
       "762     Sonali        Basu            basus06@gmail.com     19\n",
       "416    Manisha     Paliwal   manisha1.paliwal@gmail.com     16\n",
       "822     Tanuka     Ghoshal     tanuka.ghoshal@gmail.com     15"
      ]
     },
     "execution_count": 14,
     "metadata": {},
     "output_type": "execute_result"
    }
   ],
   "source": [
    "df_grouped.head()"
   ]
  },
  {
   "cell_type": "code",
   "execution_count": 15,
   "id": "332bf10d-e517-417d-8027-9d135796e58d",
   "metadata": {},
   "outputs": [],
   "source": [
    "# Export the NEW dataframe into csv\n",
    "df_grouped.to_csv('eventbrite_attendees.csv', index=False) "
   ]
  }
 ],
 "metadata": {
  "kernelspec": {
   "display_name": "Python 3 (ipykernel)",
   "language": "python",
   "name": "python3"
  },
  "language_info": {
   "codemirror_mode": {
    "name": "ipython",
    "version": 3
   },
   "file_extension": ".py",
   "mimetype": "text/x-python",
   "name": "python",
   "nbconvert_exporter": "python",
   "pygments_lexer": "ipython3",
   "version": "3.11.1"
  }
 },
 "nbformat": 4,
 "nbformat_minor": 5
}
